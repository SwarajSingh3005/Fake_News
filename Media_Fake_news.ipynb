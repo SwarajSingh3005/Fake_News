{
 "cells": [
  {
   "cell_type": "code",
   "execution_count": 1,
   "id": "e57d71bd",
   "metadata": {},
   "outputs": [],
   "source": [
    "# Import necessary libraries and modules\n",
    "import pandas as pd\n",
    "import numpy as np\n",
    "import seaborn as sns\n",
    "import matplotlib.pyplot as plt\n",
    "from sklearn.model_selection import train_test_split\n",
    "from sklearn.metrics import accuracy_score\n",
    "from sklearn.metrics import classification_report\n",
    "import re\n",
    "import string"
   ]
  },
  {
   "cell_type": "code",
   "execution_count": 2,
   "id": "61a1edb5",
   "metadata": {},
   "outputs": [],
   "source": [
    "# Import dataset\n",
    "fake_news = pd.read_csv(\"Fake.csv\")\n",
    "true_news = pd.read_csv(\"True.csv\")"
   ]
  },
  {
   "cell_type": "code",
   "execution_count": 3,
   "id": "006c57e5",
   "metadata": {},
   "outputs": [
    {
     "data": {
      "text/html": [
       "<div>\n",
       "<style scoped>\n",
       "    .dataframe tbody tr th:only-of-type {\n",
       "        vertical-align: middle;\n",
       "    }\n",
       "\n",
       "    .dataframe tbody tr th {\n",
       "        vertical-align: top;\n",
       "    }\n",
       "\n",
       "    .dataframe thead th {\n",
       "        text-align: right;\n",
       "    }\n",
       "</style>\n",
       "<table border=\"1\" class=\"dataframe\">\n",
       "  <thead>\n",
       "    <tr style=\"text-align: right;\">\n",
       "      <th></th>\n",
       "      <th>title</th>\n",
       "      <th>text</th>\n",
       "      <th>subject</th>\n",
       "      <th>date</th>\n",
       "    </tr>\n",
       "  </thead>\n",
       "  <tbody>\n",
       "    <tr>\n",
       "      <th>0</th>\n",
       "      <td>Donald Trump Sends Out Embarrassing New Year’...</td>\n",
       "      <td>Donald Trump just couldn t wish all Americans ...</td>\n",
       "      <td>News</td>\n",
       "      <td>December 31, 2017</td>\n",
       "    </tr>\n",
       "    <tr>\n",
       "      <th>1</th>\n",
       "      <td>Drunk Bragging Trump Staffer Started Russian ...</td>\n",
       "      <td>House Intelligence Committee Chairman Devin Nu...</td>\n",
       "      <td>News</td>\n",
       "      <td>December 31, 2017</td>\n",
       "    </tr>\n",
       "    <tr>\n",
       "      <th>2</th>\n",
       "      <td>Sheriff David Clarke Becomes An Internet Joke...</td>\n",
       "      <td>On Friday, it was revealed that former Milwauk...</td>\n",
       "      <td>News</td>\n",
       "      <td>December 30, 2017</td>\n",
       "    </tr>\n",
       "    <tr>\n",
       "      <th>3</th>\n",
       "      <td>Trump Is So Obsessed He Even Has Obama’s Name...</td>\n",
       "      <td>On Christmas day, Donald Trump announced that ...</td>\n",
       "      <td>News</td>\n",
       "      <td>December 29, 2017</td>\n",
       "    </tr>\n",
       "    <tr>\n",
       "      <th>4</th>\n",
       "      <td>Pope Francis Just Called Out Donald Trump Dur...</td>\n",
       "      <td>Pope Francis used his annual Christmas Day mes...</td>\n",
       "      <td>News</td>\n",
       "      <td>December 25, 2017</td>\n",
       "    </tr>\n",
       "  </tbody>\n",
       "</table>\n",
       "</div>"
      ],
      "text/plain": [
       "                                               title   \n",
       "0   Donald Trump Sends Out Embarrassing New Year’...  \\\n",
       "1   Drunk Bragging Trump Staffer Started Russian ...   \n",
       "2   Sheriff David Clarke Becomes An Internet Joke...   \n",
       "3   Trump Is So Obsessed He Even Has Obama’s Name...   \n",
       "4   Pope Francis Just Called Out Donald Trump Dur...   \n",
       "\n",
       "                                                text subject   \n",
       "0  Donald Trump just couldn t wish all Americans ...    News  \\\n",
       "1  House Intelligence Committee Chairman Devin Nu...    News   \n",
       "2  On Friday, it was revealed that former Milwauk...    News   \n",
       "3  On Christmas day, Donald Trump announced that ...    News   \n",
       "4  Pope Francis used his annual Christmas Day mes...    News   \n",
       "\n",
       "                date  \n",
       "0  December 31, 2017  \n",
       "1  December 31, 2017  \n",
       "2  December 30, 2017  \n",
       "3  December 29, 2017  \n",
       "4  December 25, 2017  "
      ]
     },
     "execution_count": 3,
     "metadata": {},
     "output_type": "execute_result"
    }
   ],
   "source": [
    "# Display first few rows of fake dataset\n",
    "fake_news.head()"
   ]
  },
  {
   "cell_type": "code",
   "execution_count": 4,
   "id": "af58eded",
   "metadata": {},
   "outputs": [
    {
     "data": {
      "text/html": [
       "<div>\n",
       "<style scoped>\n",
       "    .dataframe tbody tr th:only-of-type {\n",
       "        vertical-align: middle;\n",
       "    }\n",
       "\n",
       "    .dataframe tbody tr th {\n",
       "        vertical-align: top;\n",
       "    }\n",
       "\n",
       "    .dataframe thead th {\n",
       "        text-align: right;\n",
       "    }\n",
       "</style>\n",
       "<table border=\"1\" class=\"dataframe\">\n",
       "  <thead>\n",
       "    <tr style=\"text-align: right;\">\n",
       "      <th></th>\n",
       "      <th>title</th>\n",
       "      <th>text</th>\n",
       "      <th>subject</th>\n",
       "      <th>date</th>\n",
       "    </tr>\n",
       "  </thead>\n",
       "  <tbody>\n",
       "    <tr>\n",
       "      <th>0</th>\n",
       "      <td>As U.S. budget fight looms, Republicans flip t...</td>\n",
       "      <td>WASHINGTON (Reuters) - The head of a conservat...</td>\n",
       "      <td>politicsNews</td>\n",
       "      <td>December 31, 2017</td>\n",
       "    </tr>\n",
       "    <tr>\n",
       "      <th>1</th>\n",
       "      <td>U.S. military to accept transgender recruits o...</td>\n",
       "      <td>WASHINGTON (Reuters) - Transgender people will...</td>\n",
       "      <td>politicsNews</td>\n",
       "      <td>December 29, 2017</td>\n",
       "    </tr>\n",
       "    <tr>\n",
       "      <th>2</th>\n",
       "      <td>Senior U.S. Republican senator: 'Let Mr. Muell...</td>\n",
       "      <td>WASHINGTON (Reuters) - The special counsel inv...</td>\n",
       "      <td>politicsNews</td>\n",
       "      <td>December 31, 2017</td>\n",
       "    </tr>\n",
       "    <tr>\n",
       "      <th>3</th>\n",
       "      <td>FBI Russia probe helped by Australian diplomat...</td>\n",
       "      <td>WASHINGTON (Reuters) - Trump campaign adviser ...</td>\n",
       "      <td>politicsNews</td>\n",
       "      <td>December 30, 2017</td>\n",
       "    </tr>\n",
       "    <tr>\n",
       "      <th>4</th>\n",
       "      <td>Trump wants Postal Service to charge 'much mor...</td>\n",
       "      <td>SEATTLE/WASHINGTON (Reuters) - President Donal...</td>\n",
       "      <td>politicsNews</td>\n",
       "      <td>December 29, 2017</td>\n",
       "    </tr>\n",
       "  </tbody>\n",
       "</table>\n",
       "</div>"
      ],
      "text/plain": [
       "                                               title   \n",
       "0  As U.S. budget fight looms, Republicans flip t...  \\\n",
       "1  U.S. military to accept transgender recruits o...   \n",
       "2  Senior U.S. Republican senator: 'Let Mr. Muell...   \n",
       "3  FBI Russia probe helped by Australian diplomat...   \n",
       "4  Trump wants Postal Service to charge 'much mor...   \n",
       "\n",
       "                                                text       subject   \n",
       "0  WASHINGTON (Reuters) - The head of a conservat...  politicsNews  \\\n",
       "1  WASHINGTON (Reuters) - Transgender people will...  politicsNews   \n",
       "2  WASHINGTON (Reuters) - The special counsel inv...  politicsNews   \n",
       "3  WASHINGTON (Reuters) - Trump campaign adviser ...  politicsNews   \n",
       "4  SEATTLE/WASHINGTON (Reuters) - President Donal...  politicsNews   \n",
       "\n",
       "                 date  \n",
       "0  December 31, 2017   \n",
       "1  December 29, 2017   \n",
       "2  December 31, 2017   \n",
       "3  December 30, 2017   \n",
       "4  December 29, 2017   "
      ]
     },
     "execution_count": 4,
     "metadata": {},
     "output_type": "execute_result"
    }
   ],
   "source": [
    "# Display first few rows of true dataset\n",
    "true_news.head()"
   ]
  },
  {
   "cell_type": "code",
   "execution_count": 5,
   "id": "6fe7e3d1",
   "metadata": {},
   "outputs": [],
   "source": [
    "# Assign value \n",
    "fake_news[\"class\"] = 0\n",
    "true_news[\"class\"] = 1"
   ]
  },
  {
   "cell_type": "code",
   "execution_count": 6,
   "id": "7b22d6c2",
   "metadata": {},
   "outputs": [
    {
     "data": {
      "text/plain": [
       "((23481, 5), (21417, 5))"
      ]
     },
     "execution_count": 6,
     "metadata": {},
     "output_type": "execute_result"
    }
   ],
   "source": [
    "# Display shape\n",
    "fake_news.shape, true_news.shape"
   ]
  },
  {
   "cell_type": "code",
   "execution_count": 7,
   "id": "a6eb4fec",
   "metadata": {},
   "outputs": [],
   "source": [
    "# For manual testing removing last 12 rows\n",
    "fake_news_maul_test = fake_news.tail(12)\n",
    "for i in range(23480,23468,-1):\n",
    "    fake_news.drop([i], axis = 0, inplace = True)\n",
    "    \n",
    "true_news_maul_test = true_news.tail(12)\n",
    "for i in range(21416,21404,-1):\n",
    "    true_news.drop([i], axis=0, inplace = True)"
   ]
  },
  {
   "cell_type": "code",
   "execution_count": 8,
   "id": "2edd21af",
   "metadata": {},
   "outputs": [
    {
     "data": {
      "text/plain": [
       "((23469, 5), (21405, 5))"
      ]
     },
     "execution_count": 8,
     "metadata": {},
     "output_type": "execute_result"
    }
   ],
   "source": [
    "# Display new shape\n",
    "fake_news.shape, true_news.shape"
   ]
  },
  {
   "cell_type": "code",
   "execution_count": 9,
   "id": "777674aa",
   "metadata": {},
   "outputs": [
    {
     "name": "stderr",
     "output_type": "stream",
     "text": [
      "C:\\Users\\ASUS\\AppData\\Local\\Temp\\ipykernel_24192\\4187826295.py:2: SettingWithCopyWarning: \n",
      "A value is trying to be set on a copy of a slice from a DataFrame.\n",
      "Try using .loc[row_indexer,col_indexer] = value instead\n",
      "\n",
      "See the caveats in the documentation: https://pandas.pydata.org/pandas-docs/stable/user_guide/indexing.html#returning-a-view-versus-a-copy\n",
      "  fake_news_maul_test[\"class\"] = 0\n",
      "C:\\Users\\ASUS\\AppData\\Local\\Temp\\ipykernel_24192\\4187826295.py:3: SettingWithCopyWarning: \n",
      "A value is trying to be set on a copy of a slice from a DataFrame.\n",
      "Try using .loc[row_indexer,col_indexer] = value instead\n",
      "\n",
      "See the caveats in the documentation: https://pandas.pydata.org/pandas-docs/stable/user_guide/indexing.html#returning-a-view-versus-a-copy\n",
      "  true_news_maul_test[\"class\"] = 1\n"
     ]
    }
   ],
   "source": [
    "# Assign value \n",
    "fake_news_maul_test[\"class\"] = 0\n",
    "true_news_maul_test[\"class\"] = 1"
   ]
  },
  {
   "cell_type": "code",
   "execution_count": 10,
   "id": "e2dce0d9",
   "metadata": {},
   "outputs": [
    {
     "data": {
      "text/html": [
       "<div>\n",
       "<style scoped>\n",
       "    .dataframe tbody tr th:only-of-type {\n",
       "        vertical-align: middle;\n",
       "    }\n",
       "\n",
       "    .dataframe tbody tr th {\n",
       "        vertical-align: top;\n",
       "    }\n",
       "\n",
       "    .dataframe thead th {\n",
       "        text-align: right;\n",
       "    }\n",
       "</style>\n",
       "<table border=\"1\" class=\"dataframe\">\n",
       "  <thead>\n",
       "    <tr style=\"text-align: right;\">\n",
       "      <th></th>\n",
       "      <th>title</th>\n",
       "      <th>text</th>\n",
       "      <th>subject</th>\n",
       "      <th>date</th>\n",
       "      <th>class</th>\n",
       "    </tr>\n",
       "  </thead>\n",
       "  <tbody>\n",
       "    <tr>\n",
       "      <th>23469</th>\n",
       "      <td>BOILER ROOM: As the Frogs Slowly Boil – EP #40</td>\n",
       "      <td>Tune in to the Alternate Current Radio Network...</td>\n",
       "      <td>Middle-east</td>\n",
       "      <td>January 20, 2016</td>\n",
       "      <td>0</td>\n",
       "    </tr>\n",
       "    <tr>\n",
       "      <th>23470</th>\n",
       "      <td>Arizona Rancher Protesting in Oregon is Target...</td>\n",
       "      <td>RTOne of the most visible members of the armed...</td>\n",
       "      <td>Middle-east</td>\n",
       "      <td>January 20, 2016</td>\n",
       "      <td>0</td>\n",
       "    </tr>\n",
       "    <tr>\n",
       "      <th>23471</th>\n",
       "      <td>Seven Iranians freed in the prisoner swap have...</td>\n",
       "      <td>21st Century Wire says This week, the historic...</td>\n",
       "      <td>Middle-east</td>\n",
       "      <td>January 20, 2016</td>\n",
       "      <td>0</td>\n",
       "    </tr>\n",
       "    <tr>\n",
       "      <th>23472</th>\n",
       "      <td>#Hashtag Hell &amp; The Fake Left</td>\n",
       "      <td>By Dady Chery and Gilbert MercierAll writers ...</td>\n",
       "      <td>Middle-east</td>\n",
       "      <td>January 19, 2016</td>\n",
       "      <td>0</td>\n",
       "    </tr>\n",
       "    <tr>\n",
       "      <th>23473</th>\n",
       "      <td>Astroturfing: Journalist Reveals Brainwashing ...</td>\n",
       "      <td>Vic Bishop Waking TimesOur reality is carefull...</td>\n",
       "      <td>Middle-east</td>\n",
       "      <td>January 19, 2016</td>\n",
       "      <td>0</td>\n",
       "    </tr>\n",
       "    <tr>\n",
       "      <th>23474</th>\n",
       "      <td>The New American Century: An Era of Fraud</td>\n",
       "      <td>Paul Craig RobertsIn the last years of the 20t...</td>\n",
       "      <td>Middle-east</td>\n",
       "      <td>January 19, 2016</td>\n",
       "      <td>0</td>\n",
       "    </tr>\n",
       "    <tr>\n",
       "      <th>23475</th>\n",
       "      <td>Hillary Clinton: ‘Israel First’ (and no peace ...</td>\n",
       "      <td>Robert Fantina CounterpunchAlthough the United...</td>\n",
       "      <td>Middle-east</td>\n",
       "      <td>January 18, 2016</td>\n",
       "      <td>0</td>\n",
       "    </tr>\n",
       "    <tr>\n",
       "      <th>23476</th>\n",
       "      <td>McPain: John McCain Furious That Iran Treated ...</td>\n",
       "      <td>21st Century Wire says As 21WIRE reported earl...</td>\n",
       "      <td>Middle-east</td>\n",
       "      <td>January 16, 2016</td>\n",
       "      <td>0</td>\n",
       "    </tr>\n",
       "    <tr>\n",
       "      <th>23477</th>\n",
       "      <td>JUSTICE? Yahoo Settles E-mail Privacy Class-ac...</td>\n",
       "      <td>21st Century Wire says It s a familiar theme. ...</td>\n",
       "      <td>Middle-east</td>\n",
       "      <td>January 16, 2016</td>\n",
       "      <td>0</td>\n",
       "    </tr>\n",
       "    <tr>\n",
       "      <th>23478</th>\n",
       "      <td>Sunnistan: US and Allied ‘Safe Zone’ Plan to T...</td>\n",
       "      <td>Patrick Henningsen  21st Century WireRemember ...</td>\n",
       "      <td>Middle-east</td>\n",
       "      <td>January 15, 2016</td>\n",
       "      <td>0</td>\n",
       "    </tr>\n",
       "    <tr>\n",
       "      <th>23479</th>\n",
       "      <td>How to Blow $700 Million: Al Jazeera America F...</td>\n",
       "      <td>21st Century Wire says Al Jazeera America will...</td>\n",
       "      <td>Middle-east</td>\n",
       "      <td>January 14, 2016</td>\n",
       "      <td>0</td>\n",
       "    </tr>\n",
       "    <tr>\n",
       "      <th>23480</th>\n",
       "      <td>10 U.S. Navy Sailors Held by Iranian Military ...</td>\n",
       "      <td>21st Century Wire says As 21WIRE predicted in ...</td>\n",
       "      <td>Middle-east</td>\n",
       "      <td>January 12, 2016</td>\n",
       "      <td>0</td>\n",
       "    </tr>\n",
       "  </tbody>\n",
       "</table>\n",
       "</div>"
      ],
      "text/plain": [
       "                                                   title   \n",
       "23469     BOILER ROOM: As the Frogs Slowly Boil – EP #40  \\\n",
       "23470  Arizona Rancher Protesting in Oregon is Target...   \n",
       "23471  Seven Iranians freed in the prisoner swap have...   \n",
       "23472                      #Hashtag Hell & The Fake Left   \n",
       "23473  Astroturfing: Journalist Reveals Brainwashing ...   \n",
       "23474          The New American Century: An Era of Fraud   \n",
       "23475  Hillary Clinton: ‘Israel First’ (and no peace ...   \n",
       "23476  McPain: John McCain Furious That Iran Treated ...   \n",
       "23477  JUSTICE? Yahoo Settles E-mail Privacy Class-ac...   \n",
       "23478  Sunnistan: US and Allied ‘Safe Zone’ Plan to T...   \n",
       "23479  How to Blow $700 Million: Al Jazeera America F...   \n",
       "23480  10 U.S. Navy Sailors Held by Iranian Military ...   \n",
       "\n",
       "                                                    text      subject   \n",
       "23469  Tune in to the Alternate Current Radio Network...  Middle-east  \\\n",
       "23470  RTOne of the most visible members of the armed...  Middle-east   \n",
       "23471  21st Century Wire says This week, the historic...  Middle-east   \n",
       "23472   By Dady Chery and Gilbert MercierAll writers ...  Middle-east   \n",
       "23473  Vic Bishop Waking TimesOur reality is carefull...  Middle-east   \n",
       "23474  Paul Craig RobertsIn the last years of the 20t...  Middle-east   \n",
       "23475  Robert Fantina CounterpunchAlthough the United...  Middle-east   \n",
       "23476  21st Century Wire says As 21WIRE reported earl...  Middle-east   \n",
       "23477  21st Century Wire says It s a familiar theme. ...  Middle-east   \n",
       "23478  Patrick Henningsen  21st Century WireRemember ...  Middle-east   \n",
       "23479  21st Century Wire says Al Jazeera America will...  Middle-east   \n",
       "23480  21st Century Wire says As 21WIRE predicted in ...  Middle-east   \n",
       "\n",
       "                   date  class  \n",
       "23469  January 20, 2016      0  \n",
       "23470  January 20, 2016      0  \n",
       "23471  January 20, 2016      0  \n",
       "23472  January 19, 2016      0  \n",
       "23473  January 19, 2016      0  \n",
       "23474  January 19, 2016      0  \n",
       "23475  January 18, 2016      0  \n",
       "23476  January 16, 2016      0  \n",
       "23477  January 16, 2016      0  \n",
       "23478  January 15, 2016      0  \n",
       "23479  January 14, 2016      0  \n",
       "23480  January 12, 2016      0  "
      ]
     },
     "execution_count": 10,
     "metadata": {},
     "output_type": "execute_result"
    }
   ],
   "source": [
    "# First 12 rows of fake news dataset for manual testing \n",
    "fake_news_maul_test.head(12)"
   ]
  },
  {
   "cell_type": "code",
   "execution_count": 11,
   "id": "8e53fa56",
   "metadata": {},
   "outputs": [],
   "source": [
    "# Create new Dataframe and save it as a CSV file\n",
    "manual_test = pd.concat([fake_news_maul_test,true_news_maul_test], axis = 0)\n",
    "manual_test.to_csv(\"manual_test_output.csv\")"
   ]
  },
  {
   "cell_type": "code",
   "execution_count": 12,
   "id": "1f8cfbf1",
   "metadata": {},
   "outputs": [
    {
     "data": {
      "text/html": [
       "<div>\n",
       "<style scoped>\n",
       "    .dataframe tbody tr th:only-of-type {\n",
       "        vertical-align: middle;\n",
       "    }\n",
       "\n",
       "    .dataframe tbody tr th {\n",
       "        vertical-align: top;\n",
       "    }\n",
       "\n",
       "    .dataframe thead th {\n",
       "        text-align: right;\n",
       "    }\n",
       "</style>\n",
       "<table border=\"1\" class=\"dataframe\">\n",
       "  <thead>\n",
       "    <tr style=\"text-align: right;\">\n",
       "      <th></th>\n",
       "      <th>title</th>\n",
       "      <th>text</th>\n",
       "      <th>subject</th>\n",
       "      <th>date</th>\n",
       "      <th>class</th>\n",
       "    </tr>\n",
       "  </thead>\n",
       "  <tbody>\n",
       "    <tr>\n",
       "      <th>0</th>\n",
       "      <td>Donald Trump Sends Out Embarrassing New Year’...</td>\n",
       "      <td>Donald Trump just couldn t wish all Americans ...</td>\n",
       "      <td>News</td>\n",
       "      <td>December 31, 2017</td>\n",
       "      <td>0</td>\n",
       "    </tr>\n",
       "    <tr>\n",
       "      <th>1</th>\n",
       "      <td>Drunk Bragging Trump Staffer Started Russian ...</td>\n",
       "      <td>House Intelligence Committee Chairman Devin Nu...</td>\n",
       "      <td>News</td>\n",
       "      <td>December 31, 2017</td>\n",
       "      <td>0</td>\n",
       "    </tr>\n",
       "    <tr>\n",
       "      <th>2</th>\n",
       "      <td>Sheriff David Clarke Becomes An Internet Joke...</td>\n",
       "      <td>On Friday, it was revealed that former Milwauk...</td>\n",
       "      <td>News</td>\n",
       "      <td>December 30, 2017</td>\n",
       "      <td>0</td>\n",
       "    </tr>\n",
       "    <tr>\n",
       "      <th>3</th>\n",
       "      <td>Trump Is So Obsessed He Even Has Obama’s Name...</td>\n",
       "      <td>On Christmas day, Donald Trump announced that ...</td>\n",
       "      <td>News</td>\n",
       "      <td>December 29, 2017</td>\n",
       "      <td>0</td>\n",
       "    </tr>\n",
       "    <tr>\n",
       "      <th>4</th>\n",
       "      <td>Pope Francis Just Called Out Donald Trump Dur...</td>\n",
       "      <td>Pope Francis used his annual Christmas Day mes...</td>\n",
       "      <td>News</td>\n",
       "      <td>December 25, 2017</td>\n",
       "      <td>0</td>\n",
       "    </tr>\n",
       "    <tr>\n",
       "      <th>5</th>\n",
       "      <td>Racist Alabama Cops Brutalize Black Boy While...</td>\n",
       "      <td>The number of cases of cops brutalizing and ki...</td>\n",
       "      <td>News</td>\n",
       "      <td>December 25, 2017</td>\n",
       "      <td>0</td>\n",
       "    </tr>\n",
       "    <tr>\n",
       "      <th>6</th>\n",
       "      <td>Fresh Off The Golf Course, Trump Lashes Out A...</td>\n",
       "      <td>Donald Trump spent a good portion of his day a...</td>\n",
       "      <td>News</td>\n",
       "      <td>December 23, 2017</td>\n",
       "      <td>0</td>\n",
       "    </tr>\n",
       "    <tr>\n",
       "      <th>7</th>\n",
       "      <td>Trump Said Some INSANELY Racist Stuff Inside ...</td>\n",
       "      <td>In the wake of yet another court decision that...</td>\n",
       "      <td>News</td>\n",
       "      <td>December 23, 2017</td>\n",
       "      <td>0</td>\n",
       "    </tr>\n",
       "    <tr>\n",
       "      <th>8</th>\n",
       "      <td>Former CIA Director Slams Trump Over UN Bully...</td>\n",
       "      <td>Many people have raised the alarm regarding th...</td>\n",
       "      <td>News</td>\n",
       "      <td>December 22, 2017</td>\n",
       "      <td>0</td>\n",
       "    </tr>\n",
       "    <tr>\n",
       "      <th>9</th>\n",
       "      <td>WATCH: Brand-New Pro-Trump Ad Features So Muc...</td>\n",
       "      <td>Just when you might have thought we d get a br...</td>\n",
       "      <td>News</td>\n",
       "      <td>December 21, 2017</td>\n",
       "      <td>0</td>\n",
       "    </tr>\n",
       "    <tr>\n",
       "      <th>10</th>\n",
       "      <td>Papa John’s Founder Retires, Figures Out Raci...</td>\n",
       "      <td>A centerpiece of Donald Trump s campaign, and ...</td>\n",
       "      <td>News</td>\n",
       "      <td>December 21, 2017</td>\n",
       "      <td>0</td>\n",
       "    </tr>\n",
       "    <tr>\n",
       "      <th>11</th>\n",
       "      <td>WATCH: Paul Ryan Just Told Us He Doesn’t Care...</td>\n",
       "      <td>Republicans are working overtime trying to sel...</td>\n",
       "      <td>News</td>\n",
       "      <td>December 21, 2017</td>\n",
       "      <td>0</td>\n",
       "    </tr>\n",
       "  </tbody>\n",
       "</table>\n",
       "</div>"
      ],
      "text/plain": [
       "                                                title   \n",
       "0    Donald Trump Sends Out Embarrassing New Year’...  \\\n",
       "1    Drunk Bragging Trump Staffer Started Russian ...   \n",
       "2    Sheriff David Clarke Becomes An Internet Joke...   \n",
       "3    Trump Is So Obsessed He Even Has Obama’s Name...   \n",
       "4    Pope Francis Just Called Out Donald Trump Dur...   \n",
       "5    Racist Alabama Cops Brutalize Black Boy While...   \n",
       "6    Fresh Off The Golf Course, Trump Lashes Out A...   \n",
       "7    Trump Said Some INSANELY Racist Stuff Inside ...   \n",
       "8    Former CIA Director Slams Trump Over UN Bully...   \n",
       "9    WATCH: Brand-New Pro-Trump Ad Features So Muc...   \n",
       "10   Papa John’s Founder Retires, Figures Out Raci...   \n",
       "11   WATCH: Paul Ryan Just Told Us He Doesn’t Care...   \n",
       "\n",
       "                                                 text subject   \n",
       "0   Donald Trump just couldn t wish all Americans ...    News  \\\n",
       "1   House Intelligence Committee Chairman Devin Nu...    News   \n",
       "2   On Friday, it was revealed that former Milwauk...    News   \n",
       "3   On Christmas day, Donald Trump announced that ...    News   \n",
       "4   Pope Francis used his annual Christmas Day mes...    News   \n",
       "5   The number of cases of cops brutalizing and ki...    News   \n",
       "6   Donald Trump spent a good portion of his day a...    News   \n",
       "7   In the wake of yet another court decision that...    News   \n",
       "8   Many people have raised the alarm regarding th...    News   \n",
       "9   Just when you might have thought we d get a br...    News   \n",
       "10  A centerpiece of Donald Trump s campaign, and ...    News   \n",
       "11  Republicans are working overtime trying to sel...    News   \n",
       "\n",
       "                 date  class  \n",
       "0   December 31, 2017      0  \n",
       "1   December 31, 2017      0  \n",
       "2   December 30, 2017      0  \n",
       "3   December 29, 2017      0  \n",
       "4   December 25, 2017      0  \n",
       "5   December 25, 2017      0  \n",
       "6   December 23, 2017      0  \n",
       "7   December 23, 2017      0  \n",
       "8   December 22, 2017      0  \n",
       "9   December 21, 2017      0  \n",
       "10  December 21, 2017      0  \n",
       "11  December 21, 2017      0  "
      ]
     },
     "execution_count": 12,
     "metadata": {},
     "output_type": "execute_result"
    }
   ],
   "source": [
    "# Merging fake and true dataset and displaying first 12 rows\n",
    "merge = pd.concat([fake_news, true_news], axis=0)\n",
    "merge.head(12)"
   ]
  },
  {
   "cell_type": "code",
   "execution_count": 13,
   "id": "3815bade",
   "metadata": {},
   "outputs": [
    {
     "data": {
      "text/plain": [
       "Index(['title', 'text', 'subject', 'date', 'class'], dtype='object')"
      ]
     },
     "execution_count": 13,
     "metadata": {},
     "output_type": "execute_result"
    }
   ],
   "source": [
    "# Display columns\n",
    "merge.columns"
   ]
  },
  {
   "cell_type": "code",
   "execution_count": 14,
   "id": "7de25a97",
   "metadata": {},
   "outputs": [],
   "source": [
    "# Removing unwanted columns\n",
    "new_data = merge.drop([\"title\", \"subject\",\"date\"], axis =1)"
   ]
  },
  {
   "cell_type": "code",
   "execution_count": 15,
   "id": "3c8064d5",
   "metadata": {},
   "outputs": [
    {
     "data": {
      "text/plain": [
       "text     0\n",
       "class    0\n",
       "dtype: int64"
      ]
     },
     "execution_count": 15,
     "metadata": {},
     "output_type": "execute_result"
    }
   ],
   "source": [
    "# Detecting weather there are any empty data\n",
    "new_data.isnull().sum()"
   ]
  },
  {
   "cell_type": "code",
   "execution_count": 16,
   "id": "f3e668ab",
   "metadata": {},
   "outputs": [
    {
     "data": {
      "text/plain": [
       "Index(['text', 'class'], dtype='object')"
      ]
     },
     "execution_count": 16,
     "metadata": {},
     "output_type": "execute_result"
    }
   ],
   "source": [
    "# Display columns\n",
    "new_data.columns"
   ]
  },
  {
   "cell_type": "markdown",
   "id": "aea859fe",
   "metadata": {},
   "source": [
    "## Random Shuffling the dataframe"
   ]
  },
  {
   "cell_type": "code",
   "execution_count": 17,
   "id": "d6d5ae52",
   "metadata": {},
   "outputs": [],
   "source": [
    "# Shuffle the rows\n",
    "new_data = new_data.sample(frac = 1) #'frac=1' indicating that all rows should be included"
   ]
  },
  {
   "cell_type": "code",
   "execution_count": 18,
   "id": "82b777cc",
   "metadata": {},
   "outputs": [
    {
     "data": {
      "text/html": [
       "<div>\n",
       "<style scoped>\n",
       "    .dataframe tbody tr th:only-of-type {\n",
       "        vertical-align: middle;\n",
       "    }\n",
       "\n",
       "    .dataframe tbody tr th {\n",
       "        vertical-align: top;\n",
       "    }\n",
       "\n",
       "    .dataframe thead th {\n",
       "        text-align: right;\n",
       "    }\n",
       "</style>\n",
       "<table border=\"1\" class=\"dataframe\">\n",
       "  <thead>\n",
       "    <tr style=\"text-align: right;\">\n",
       "      <th></th>\n",
       "      <th>text</th>\n",
       "      <th>class</th>\n",
       "    </tr>\n",
       "  </thead>\n",
       "  <tbody>\n",
       "    <tr>\n",
       "      <th>18512</th>\n",
       "      <td>A man disguised himself in a burka in order to...</td>\n",
       "      <td>0</td>\n",
       "    </tr>\n",
       "    <tr>\n",
       "      <th>3014</th>\n",
       "      <td>WASHINGTON (Reuters) - U.S. lawmakers said on ...</td>\n",
       "      <td>1</td>\n",
       "    </tr>\n",
       "    <tr>\n",
       "      <th>20851</th>\n",
       "      <td>PARIS (Reuters) - President Emmanuel Macron wa...</td>\n",
       "      <td>1</td>\n",
       "    </tr>\n",
       "    <tr>\n",
       "      <th>6042</th>\n",
       "      <td>WASHINGTON (Reuters) - President Donald Trump ...</td>\n",
       "      <td>1</td>\n",
       "    </tr>\n",
       "    <tr>\n",
       "      <th>17740</th>\n",
       "      <td>PARIS (Reuters) - President Emmanuel Macron ca...</td>\n",
       "      <td>1</td>\n",
       "    </tr>\n",
       "  </tbody>\n",
       "</table>\n",
       "</div>"
      ],
      "text/plain": [
       "                                                    text  class\n",
       "18512  A man disguised himself in a burka in order to...      0\n",
       "3014   WASHINGTON (Reuters) - U.S. lawmakers said on ...      1\n",
       "20851  PARIS (Reuters) - President Emmanuel Macron wa...      1\n",
       "6042   WASHINGTON (Reuters) - President Donald Trump ...      1\n",
       "17740  PARIS (Reuters) - President Emmanuel Macron ca...      1"
      ]
     },
     "execution_count": 18,
     "metadata": {},
     "output_type": "execute_result"
    }
   ],
   "source": [
    "# Display first few rows\n",
    "new_data.head()"
   ]
  },
  {
   "cell_type": "code",
   "execution_count": 19,
   "id": "012458d8",
   "metadata": {},
   "outputs": [],
   "source": [
    "# Drop the old index column, making the index start from 0.\n",
    "new_data.reset_index(inplace = True)\n",
    "new_data.drop([\"index\"], axis =1, inplace = True)"
   ]
  },
  {
   "cell_type": "code",
   "execution_count": 20,
   "id": "f433abe7",
   "metadata": {},
   "outputs": [
    {
     "data": {
      "text/plain": [
       "Index(['text', 'class'], dtype='object')"
      ]
     },
     "execution_count": 20,
     "metadata": {},
     "output_type": "execute_result"
    }
   ],
   "source": [
    "new_data.columns"
   ]
  },
  {
   "cell_type": "code",
   "execution_count": 21,
   "id": "03d37561",
   "metadata": {},
   "outputs": [
    {
     "data": {
      "text/html": [
       "<div>\n",
       "<style scoped>\n",
       "    .dataframe tbody tr th:only-of-type {\n",
       "        vertical-align: middle;\n",
       "    }\n",
       "\n",
       "    .dataframe tbody tr th {\n",
       "        vertical-align: top;\n",
       "    }\n",
       "\n",
       "    .dataframe thead th {\n",
       "        text-align: right;\n",
       "    }\n",
       "</style>\n",
       "<table border=\"1\" class=\"dataframe\">\n",
       "  <thead>\n",
       "    <tr style=\"text-align: right;\">\n",
       "      <th></th>\n",
       "      <th>text</th>\n",
       "      <th>class</th>\n",
       "    </tr>\n",
       "  </thead>\n",
       "  <tbody>\n",
       "    <tr>\n",
       "      <th>0</th>\n",
       "      <td>A man disguised himself in a burka in order to...</td>\n",
       "      <td>0</td>\n",
       "    </tr>\n",
       "    <tr>\n",
       "      <th>1</th>\n",
       "      <td>WASHINGTON (Reuters) - U.S. lawmakers said on ...</td>\n",
       "      <td>1</td>\n",
       "    </tr>\n",
       "    <tr>\n",
       "      <th>2</th>\n",
       "      <td>PARIS (Reuters) - President Emmanuel Macron wa...</td>\n",
       "      <td>1</td>\n",
       "    </tr>\n",
       "    <tr>\n",
       "      <th>3</th>\n",
       "      <td>WASHINGTON (Reuters) - President Donald Trump ...</td>\n",
       "      <td>1</td>\n",
       "    </tr>\n",
       "    <tr>\n",
       "      <th>4</th>\n",
       "      <td>PARIS (Reuters) - President Emmanuel Macron ca...</td>\n",
       "      <td>1</td>\n",
       "    </tr>\n",
       "  </tbody>\n",
       "</table>\n",
       "</div>"
      ],
      "text/plain": [
       "                                                text  class\n",
       "0  A man disguised himself in a burka in order to...      0\n",
       "1  WASHINGTON (Reuters) - U.S. lawmakers said on ...      1\n",
       "2  PARIS (Reuters) - President Emmanuel Macron wa...      1\n",
       "3  WASHINGTON (Reuters) - President Donald Trump ...      1\n",
       "4  PARIS (Reuters) - President Emmanuel Macron ca...      1"
      ]
     },
     "execution_count": 21,
     "metadata": {},
     "output_type": "execute_result"
    }
   ],
   "source": [
    "new_data.head()"
   ]
  },
  {
   "cell_type": "code",
   "execution_count": 22,
   "id": "ff9e1aed",
   "metadata": {},
   "outputs": [],
   "source": [
    "# Take a word as input, performs various text preprocessing steps using regular expressions\n",
    "def newscheck(word):\n",
    "    word = word.lower()\n",
    "    word = re.sub('\\[.*?\\]', '', word)\n",
    "    word = re.sub(\"\\\\W\",\" \",word) \n",
    "    word = re.sub('https?://\\S+|www\\.\\S+', '', word)\n",
    "    word = re.sub('<.*?>+', '', word)\n",
    "    word = re.sub('[%s]' % re.escape(string.punctuation), '', word)\n",
    "    word = re.sub('\\n', '', word)\n",
    "    word = re.sub('\\w*\\d\\w*', '', word)    \n",
    "    return word"
   ]
  },
  {
   "cell_type": "code",
   "execution_count": 23,
   "id": "78d9d666",
   "metadata": {},
   "outputs": [],
   "source": [
    "#applying the function to text column\n",
    "new_data[\"text\"] = new_data[\"text\"].apply(newscheck)"
   ]
  },
  {
   "cell_type": "code",
   "execution_count": 24,
   "id": "23f63303",
   "metadata": {},
   "outputs": [],
   "source": [
    "# assign text column as x and class column as y\n",
    "x = new_data[\"text\"]\n",
    "y = new_data[\"class\"]"
   ]
  },
  {
   "cell_type": "markdown",
   "id": "0c17815f",
   "metadata": {},
   "source": [
    "## Splitting Training and Testing"
   ]
  },
  {
   "cell_type": "code",
   "execution_count": 25,
   "id": "1f560e0f",
   "metadata": {},
   "outputs": [],
   "source": [
    "x_train, x_test, y_train, y_test = train_test_split(x, y, test_size=0.25)"
   ]
  },
  {
   "cell_type": "code",
   "execution_count": 26,
   "id": "7419fcba",
   "metadata": {},
   "outputs": [],
   "source": [
    "# Convert text to vectors\n",
    "from sklearn.feature_extraction.text import TfidfVectorizer\n",
    "vector_convert = TfidfVectorizer()\n",
    "xv_train = vector_convert.fit_transform(x_train)\n",
    "xv_test = vector_convert.transform(x_test)"
   ]
  },
  {
   "cell_type": "markdown",
   "id": "862c94fd",
   "metadata": {},
   "source": [
    "## Logistic Regression"
   ]
  },
  {
   "cell_type": "code",
   "execution_count": 27,
   "id": "17f80bcd",
   "metadata": {},
   "outputs": [
    {
     "data": {
      "text/plain": [
       "0.9859167483732953"
      ]
     },
     "execution_count": 27,
     "metadata": {},
     "output_type": "execute_result"
    }
   ],
   "source": [
    "from sklearn.linear_model import LogisticRegression\n",
    "\n",
    "logic_re = LogisticRegression()\n",
    "logic_re.fit(xv_train, y_train)\n",
    "pred_logic_re=logic_re.predict(xv_test)\n",
    "logic_re.score(xv_test, y_test)"
   ]
  },
  {
   "cell_type": "code",
   "execution_count": 28,
   "id": "d8642b25",
   "metadata": {},
   "outputs": [
    {
     "name": "stdout",
     "output_type": "stream",
     "text": [
      "classification_report\n",
      "              precision    recall  f1-score   support\n",
      "\n",
      "           0       0.99      0.99      0.99      5895\n",
      "           1       0.98      0.99      0.99      5324\n",
      "\n",
      "    accuracy                           0.99     11219\n",
      "   macro avg       0.99      0.99      0.99     11219\n",
      "weighted avg       0.99      0.99      0.99     11219\n",
      "\n"
     ]
    },
    {
     "data": {
      "image/png": "[encoded data removed]",
      "text/plain": [
       "<Figure size 800x500 with 2 Axes>"
      ]
     },
     "metadata": {},
     "output_type": "display_data"
    }
   ],
   "source": [
    "from sklearn.metrics import confusion_matrix, classification_report\n",
    "print(\"classification_report\")\n",
    "print(classification_report(y_test, pred_logic_re))\n",
    "cm = confusion_matrix(y_test, pred_logic_re) # compute confusion matrix\n",
    "# create heatmap\n",
    "plt.rcParams[\"figure.figsize\"] = (8,5)\n",
    "sns.heatmap(cm, annot=True, cmap='Blues', fmt='d')\n",
    "plt.title('Confusion Matrix')\n",
    "plt.ylabel('True label')\n",
    "plt.xlabel('Predicted label')\n",
    "plt.show()"
   ]
  },
  {
   "cell_type": "markdown",
   "id": "e9e1ff47",
   "metadata": {},
   "source": [
    "## Random Forest Classifier"
   ]
  },
  {
   "cell_type": "code",
   "execution_count": 29,
   "id": "13047c5b",
   "metadata": {},
   "outputs": [
    {
     "data": {
      "text/plain": [
       "0.9877885729565915"
      ]
     },
     "execution_count": 29,
     "metadata": {},
     "output_type": "execute_result"
    }
   ],
   "source": [
    "from sklearn.ensemble import RandomForestClassifier\n",
    "\n",
    "rand_fc = RandomForestClassifier(random_state=0)\n",
    "rand_fc.fit(xv_train, y_train)\n",
    "pred_rand_fc = rand_fc.predict(xv_test)\n",
    "rand_fc.score(xv_test, y_test)"
   ]
  },
  {
   "cell_type": "code",
   "execution_count": 30,
   "id": "37bd1345",
   "metadata": {},
   "outputs": [
    {
     "name": "stdout",
     "output_type": "stream",
     "text": [
      "classification_report\n",
      "              precision    recall  f1-score   support\n",
      "\n",
      "           0       0.99      0.99      0.99      5895\n",
      "           1       0.99      0.98      0.99      5324\n",
      "\n",
      "    accuracy                           0.99     11219\n",
      "   macro avg       0.99      0.99      0.99     11219\n",
      "weighted avg       0.99      0.99      0.99     11219\n",
      "\n"
     ]
    },
    {
     "data": {
      "image/png": "[encoded data removed]",
      "text/plain": [
       "<Figure size 800x500 with 2 Axes>"
      ]
     },
     "metadata": {},
     "output_type": "display_data"
    }
   ],
   "source": [
    "from sklearn.metrics import confusion_matrix, classification_report\n",
    "print(\"classification_report\")\n",
    "print(classification_report(y_test, pred_rand_fc))\n",
    "cm = confusion_matrix(y_test, pred_rand_fc) # compute confusion matrix\n",
    "# create heatmap\n",
    "plt.rcParams[\"figure.figsize\"] = (8,5)\n",
    "sns.heatmap(cm, annot=True, cmap='Greens', fmt='d')\n",
    "plt.title('Confusion Matrix')\n",
    "plt.ylabel('True label')\n",
    "plt.xlabel('Predicted label')\n",
    "plt.show()"
   ]
  },
  {
   "cell_type": "markdown",
   "id": "8efc41c9",
   "metadata": {},
   "source": [
    "## Gradient Boosting Classifier"
   ]
  },
  {
   "cell_type": "code",
   "execution_count": 31,
   "id": "94593648",
   "metadata": {},
   "outputs": [
    {
     "data": {
      "text/plain": [
       "0.9960780818254746"
      ]
     },
     "execution_count": 31,
     "metadata": {},
     "output_type": "execute_result"
    }
   ],
   "source": [
    "from sklearn.ensemble import GradientBoostingClassifier\n",
    "\n",
    "grad_boost = GradientBoostingClassifier(random_state=0)\n",
    "grad_boost.fit(xv_train, y_train)\n",
    "pred_grad_boost = grad_boost.predict(xv_test)\n",
    "grad_boost.score(xv_test, y_test)"
   ]
  },
  {
   "cell_type": "code",
   "execution_count": 32,
   "id": "a187f12a",
   "metadata": {},
   "outputs": [
    {
     "name": "stdout",
     "output_type": "stream",
     "text": [
      "classification_report\n",
      "              precision    recall  f1-score   support\n",
      "\n",
      "           0       1.00      0.99      1.00      5895\n",
      "           1       0.99      1.00      1.00      5324\n",
      "\n",
      "    accuracy                           1.00     11219\n",
      "   macro avg       1.00      1.00      1.00     11219\n",
      "weighted avg       1.00      1.00      1.00     11219\n",
      "\n"
     ]
    },
    {
     "data": {
      "image/png": "[encoded data removed]",
      "text/plain": [
       "<Figure size 800x500 with 2 Axes>"
      ]
     },
     "metadata": {},
     "output_type": "display_data"
    }
   ],
   "source": [
    "from sklearn.metrics import confusion_matrix, classification_report\n",
    "print(\"classification_report\")\n",
    "print(classification_report(y_test, pred_grad_boost))\n",
    "cm = confusion_matrix(y_test, pred_grad_boost) # compute confusion matrix\n",
    "# create heatmap\n",
    "plt.rcParams[\"figure.figsize\"] = (8,5)\n",
    "sns.heatmap(cm, annot=True, cmap='Oranges', fmt='d')\n",
    "plt.title('Confusion Matrix')\n",
    "plt.ylabel('True label')\n",
    "plt.xlabel('Predicted label')\n",
    "plt.show()"
   ]
  },
  {
   "cell_type": "markdown",
   "id": "d26357d6",
   "metadata": {},
   "source": [
    "## Decision Tree Classification"
   ]
  },
  {
   "cell_type": "code",
   "execution_count": 33,
   "id": "cfc5e869",
   "metadata": {},
   "outputs": [
    {
     "data": {
      "text/plain": [
       "0.9959889473215081"
      ]
     },
     "execution_count": 33,
     "metadata": {},
     "output_type": "execute_result"
    }
   ],
   "source": [
    "from sklearn.tree import DecisionTreeClassifier\n",
    "\n",
    "dec_tree = DecisionTreeClassifier()\n",
    "dec_tree.fit(xv_train, y_train)\n",
    "pred_dec_tree = dec_tree.predict(xv_test)\n",
    "dec_tree.score(xv_test, y_test)"
   ]
  },
  {
   "cell_type": "code",
   "execution_count": 34,
   "id": "c29bcbdc",
   "metadata": {},
   "outputs": [
    {
     "name": "stdout",
     "output_type": "stream",
     "text": [
      "classification_report\n",
      "              precision    recall  f1-score   support\n",
      "\n",
      "           0       1.00      1.00      1.00      5895\n",
      "           1       1.00      1.00      1.00      5324\n",
      "\n",
      "    accuracy                           1.00     11219\n",
      "   macro avg       1.00      1.00      1.00     11219\n",
      "weighted avg       1.00      1.00      1.00     11219\n",
      "\n"
     ]
    },
    {
     "data": {
      "image/png": "[encoded data removed]",
      "text/plain": [
       "<Figure size 800x500 with 2 Axes>"
      ]
     },
     "metadata": {},
     "output_type": "display_data"
    }
   ],
   "source": [
    "from sklearn.metrics import confusion_matrix, classification_report\n",
    "print(\"classification_report\")\n",
    "print(classification_report(y_test, pred_dec_tree))\n",
    "cm = confusion_matrix(y_test, pred_dec_tree) # compute confusion matrix\n",
    "# create heatmap\n",
    "plt.rcParams[\"figure.figsize\"] = (8,5)\n",
    "sns.heatmap(cm, annot=True, cmap='Reds', fmt='d')\n",
    "plt.title('Confusion Matrix')\n",
    "plt.ylabel('True label')\n",
    "plt.xlabel('Predicted label')\n",
    "plt.show()"
   ]
  },
  {
   "cell_type": "markdown",
   "id": "e8eff419",
   "metadata": {},
   "source": [
    "## Model Testing"
   ]
  },
  {
   "cell_type": "code",
   "execution_count": 35,
   "id": "c4ecc365",
   "metadata": {},
   "outputs": [],
   "source": [
    "def detection(i):\n",
    "    # Convert the prediction label to corresponding class name\n",
    "    if i == 0:\n",
    "        return \"Fake News\"\n",
    "    elif i == 1:\n",
    "        return \"Real News\"\n",
    "    \n",
    "def testing(news):\n",
    "    # Prepare the test data\n",
    "    test_news = {\"text\":[news]}\n",
    "    test_df_news = pd.DataFrame(test_news)\n",
    "    test_df_news[\"text\"] = test_df_news[\"text\"].apply(newscheck) \n",
    "    test_x_news = test_df_news[\"text\"]\n",
    "    test_xv_news = vector_convert.transform(test_x_news)\n",
    "    \n",
    "    # Make predictions using different models\n",
    "    pred_lr = logic_re.predict(test_xv_news)\n",
    "    pred_rfc = rand_fc.predict(test_xv_news)\n",
    "    pred_gbc = grad_boost.predict(test_xv_news)\n",
    "    pred_dt = dec_tree.predict(test_xv_news)\n",
    "\n",
    "    return {\n",
    "        \"Logistic Regression\": detection(pred_lr[0]),\n",
    "        \"Random Forest\": detection(pred_rfc[0]),\n",
    "        \"Gradient Boosting\": detection(pred_gbc[0]),\n",
    "        \"Decision Tree\": detection(pred_dt[0])\n",
    "    } "
   ]
  },
  {
   "cell_type": "markdown",
   "id": "82c6bcd3",
   "metadata": {},
   "source": [
    "## Testing from true news dataset"
   ]
  },
  {
   "cell_type": "code",
   "execution_count": 36,
   "id": "995d22b9",
   "metadata": {},
   "outputs": [
    {
     "name": "stdout",
     "output_type": "stream",
     "text": [
      "Enter the news article: The following statementsÂ were posted to the verified Twitter accounts of U.S. President Donald Trump, @realDonaldTrump and @POTUS.  The opinions expressed are his own.Â Reuters has not edited the statements or confirmed their accuracy.  @realDonaldTrump : - Based on the fact that the very unfair and unpopular Individual Mandate has been terminated as part of our Tax Cut Bill, which essentially Repeals (over time) ObamaCare, the Democrats & Republicans will eventually come together and develop a great new HealthCare plan! [0658 EST] - WOW, @foxandfrlends â€œDossier is bogus. Clinton Campaign, DNC funded Dossier. FBI CANNOT (after all of this time) VERIFY CLAIMS IN DOSSIER OF RUSSIA/TRUMP COLLUSION. FBI TAINTED.â€ And they used this Crooked Hillary pile of garbage as the basis for going after the Trump Campaign! [0824 EST] - All signs are that business is looking really good for next year, only to be helped further by our Tax Cut Bill. Will be a great year for Companies and JOBS! Stock Market is poised for another year of SUCCESS! [17:17 EST] -- Source link: (bit.ly/2jBh4LU) (bit.ly/2jpEXYR) \n",
      "\n",
      "Predictions:\n",
      "Logistic Regression: Real News\n",
      "Random Forest: Real News\n",
      "Gradient Boosting: Real News\n",
      "Decision Tree: Real News\n"
     ]
    }
   ],
   "source": [
    "news = input(\"Enter the news article: \") # Get user input for the news article\n",
    "predictions = testing(news) # Get predictions\n",
    "\n",
    "# Print predictions\n",
    "print(\"\\nPredictions:\")\n",
    "for model, prediction in predictions.items():\n",
    "    print(model + \":\", prediction)"
   ]
  },
  {
   "cell_type": "markdown",
   "id": "49e7fef5",
   "metadata": {},
   "source": [
    "## Testing from fake news dataset"
   ]
  },
  {
   "cell_type": "code",
   "execution_count": 37,
   "id": "fdcf64b1",
   "metadata": {},
   "outputs": [
    {
     "name": "stdout",
     "output_type": "stream",
     "text": [
      "Enter the news article: Fox News has decided to cancel certain ads on their network, completing their transition from a conservative network into a safe space for their fragile Trump fans, and after Trump himself threw a livid fit. A series of ads by political activist Tom Steyer, which call for Trump s impeachment, has been pulled because of the reaction to it from their viewers. Seriously: Due to the strong negative reaction to their ad by our viewers, we could not in good conscience take their money. Why, because their viewers will abandon the network if they show any signs of trying to be balanced? Of course, Fox News is a private entity and is allowed to do this, but the question remains: Is it censorship if they did so because of pressure from Trump? The unhinged presidential impostor did go on Twitter to call Steyer  wacky & totally unhinged  when the  Impeach Trump  campaign was first launched in late October. That may well have put pressure on Fox to pull it.Wacky & totally unhinged Tom Steyer, who has been fighting me and my Make America Great Again agenda from beginning, never wins elections!  Donald J. Trump (@realDonaldTrump) October 27, 2017Fake President Trump is known for his attacks on the  fake news  media, and it s entirely possible that Fox News is terrified of him. Or, at the very least, terrified that he ll stop coming for ridiculously easy and softball interviews from friendly neighborhood conspiracy theorists like Sean Hannity.Steyer, for his part, is claiming that Fox is in breach of contract over this. His lawyer, Brad Deutsch, said that, on Oct. 27, Fox had agreed unconditionally to air the ads for one more week. Canceling the ads when they did  signaled a profound failure of journalistic integrity, a suppression of constitutionally protected speech, and likely a consequence of inexcusable political pressure.  Watch the ad below:Featured image via Ethan Miller/Getty Images\n",
      "\n",
      "Predictions:\n",
      "Logistic Regression: Fake News\n",
      "Random Forest: Fake News\n",
      "Gradient Boosting: Fake News\n",
      "Decision Tree: Fake News\n"
     ]
    }
   ],
   "source": [
    "news = input(\"Enter the news article: \") # Get user input for the news article\n",
    "predictions = testing(news) # Get predictions\n",
    "\n",
    "# Print predictions\n",
    "print(\"\\nPredictions:\")\n",
    "for model, prediction in predictions.items():\n",
    "    print(model + \":\", prediction)"
   ]
  },
  {
   "cell_type": "markdown",
   "id": "8cc472d6",
   "metadata": {},
   "source": [
    "## Testing Real News taken from BBC News"
   ]
  },
  {
   "cell_type": "code",
   "execution_count": 44,
   "id": "0727cb4e",
   "metadata": {},
   "outputs": [
    {
     "name": "stdout",
     "output_type": "stream",
     "text": [
      "Enter the news article: LONDON (Reuters) - The government has ditched its plan for thousands of EU-era laws to expire automatically at the end of the year.  The plan - dubbed a post-Brexit bonfire - would see laws that were copied over to the UK after Brexit vanish, unless specifically kept or replaced.  Critics of the bill had voiced concern that it could lead to important legislation falling away by accident.  But the climbdown is likely to trigger anger from Brexit-backing Conservative MPs and members of the House of Lords.  Business Secretary Kemi Badenoch said the cut-off point would be replaced with a list of 600 laws the government wants to replace by the end of the year.  In a statement, she said the change would be made through an amendment when the Retained EU Law Bill returns to Parliament next week.  MPs push back against timeline to scrap EU laws Senedd votes against plan to scrap EU-era laws Plan to scrap EU laws undermines NI deal - report Tory Brexiteer Jacob Rees-Mogg, who introduced the bill when he was in government, called the move an \"admission of administrative failure\".  It showed an \"inability of Whitehall to do the necessary work and an incapability of ministers to push this through their own departments,\" he added.  He said the move to ditch the deadline represented the triumph of \"the blob\" - a term used by some Tory MPs to describe the Whitehall establishment.  The UK incorporated thousands of EU laws into UK law to minimise disruption to businesses when the UK officially left the EU in 2020 - with an ongoing audit by civil servants having identified 4,800 so far.  Since September 2021, it has been reviewing this body of legislation to identify opportunities to give British firms an edge over European competitors.  The Retained EU Law Bill, which began its journey through Parliament during Liz Truss's premiership, would have introduced a 31 December cut-off date for most of these laws to expire, unless ministers replaced or decided to retain them.\n",
      "\n",
      "Predictions:\n",
      "Logistic Regression: Real News\n",
      "Random Forest: Real News\n",
      "Gradient Boosting: Real News\n",
      "Decision Tree: Real News\n"
     ]
    }
   ],
   "source": [
    "news = input(\"Enter the news article: \") # Get user input for the news article\n",
    "predictions = testing(news) # Get predictions\n",
    "\n",
    "# Print predictions\n",
    "print(\"\\nPredictions:\")\n",
    "for model, prediction in predictions.items():\n",
    "    print(model + \":\", prediction)"
   ]
  },
  {
   "cell_type": "markdown",
   "id": "0dd369c7",
   "metadata": {},
   "source": [
    "## Fake news created by ChatGPT on the same topic"
   ]
  },
  {
   "cell_type": "code",
   "execution_count": 46,
   "id": "154a2240",
   "metadata": {},
   "outputs": [
    {
     "name": "stdout",
     "output_type": "stream",
     "text": [
      "Enter the news article: The government has ditched its plan to scrap thousands of EU-era laws after a backlash from businesses and legal experts. The plan, which was dubbed a \"bonfire of red tape\", would have seen thousands of laws expire automatically at the end of the year, unless they were specifically kept or replaced.  The government had argued that the plan was necessary to reduce the burden of regulation on businesses and to give the UK the freedom to set its own laws. However, businesses and legal experts warned that the plan was chaotic and could lead to important laws being scrapped by accident.  In a statement, the government said that it had listened to the concerns raised and that it would be working with businesses and legal experts to develop a more \"measured\" approach to reforming EU law.  The government's U-turn is a major blow to its post-Brexit agenda. It had hoped to use the bonfire of red tape to show businesses that the UK was a more attractive place to invest after Brexit. However, the U-turn will likely lead to further uncertainty for businesses and could damage the UK's reputation as a place to do business.  The government's U-turn is also a sign of the challenges it faces in reforming EU law. The UK has inherited a complex body of law from the EU, and it is not clear how the government will be able to reform it without causing disruption to businesses and the economy.  The government's U-turn is a setback for its post-Brexit agenda, but it is also a reminder of the challenges it faces in reforming EU law. The UK will need to tread carefully if it wants to avoid causing disruption to businesses and the economy.\n",
      "\n",
      "Predictions:\n",
      "Logistic Regression: Real News\n",
      "Random Forest: Real News\n",
      "Gradient Boosting: Fake News\n",
      "Decision Tree: Fake News\n"
     ]
    }
   ],
   "source": [
    "news = input(\"Enter the news article: \") # Get user input for the news article\n",
    "predictions = testing(news) # Get predictions\n",
    "\n",
    "# Print predictions\n",
    "print(\"\\nPredictions:\")\n",
    "for model, prediction in predictions.items():\n",
    "    print(model + \":\", prediction)"
   ]
  },
  {
   "cell_type": "code",
   "execution_count": 47,
   "id": "6dd63570",
   "metadata": {},
   "outputs": [
    {
     "name": "stdout",
     "output_type": "stream",
     "text": [
      "Enter the news article: LONDON (Reuters) -The government has ditched its plan to scrap thousands of EU-era laws after a backlash from businesses and legal experts. The plan, which was dubbed a \"bonfire of red tape\", would have seen thousands of laws expire automatically at the end of the year, unless they were specifically kept or replaced.  The government had argued that the plan was necessary to reduce the burden of regulation on businesses and to give the UK the freedom to set its own laws. However, businesses and legal experts warned that the plan was chaotic and could lead to important laws being scrapped by accident.  In a statement, the government said that it had listened to the concerns raised and that it would be working with businesses and legal experts to develop a more \"measured\" approach to reforming EU law.  The government's U-turn is a major blow to its post-Brexit agenda. It had hoped to use the bonfire of red tape to show businesses that the UK was a more attractive place to invest after Brexit. However, the U-turn will likely lead to further uncertainty for businesses and could damage the UK's reputation as a place to do business.  The government's U-turn is also a sign of the challenges it faces in reforming EU law. The UK has inherited a complex body of law from the EU, and it is not clear how the government will be able to reform it without causing disruption to businesses and the economy.  The government's U-turn is a setback for its post-Brexit agenda, but it is also a reminder of the challenges it faces in reforming EU law. The UK will need to tread carefully if it wants to avoid causing disruption to businesses and the economy.\n",
      "\n",
      "Predictions:\n",
      "Logistic Regression: Real News\n",
      "Random Forest: Real News\n",
      "Gradient Boosting: Real News\n",
      "Decision Tree: Real News\n"
     ]
    }
   ],
   "source": [
    "# Fake news with fake citations\n",
    "news = input(\"Enter the news article: \") # Get user input for the news article\n",
    "predictions = testing(news) # Get predictions\n",
    "\n",
    "# Print predictions\n",
    "print(\"\\nPredictions:\")\n",
    "for model, prediction in predictions.items():\n",
    "    print(model + \":\", prediction)"
   ]
  },
  {
   "cell_type": "code",
   "execution_count": 48,
   "id": "72ea7105",
   "metadata": {},
   "outputs": [
    {
     "name": "stdout",
     "output_type": "stream",
     "text": [
      "Enter the news article: The government had been planning to scrap thousands of EU-era laws in a bid to reduce the burden of regulation on businesses. However, things went awry when a government official accidentally set fire to a pile of documents containing the laws.  The fire quickly spread, engulfing the entire Parliament building. Firefighters were called to the scene, but they were unable to contain the blaze. By the time the fire was extinguished, Parliament had been completely destroyed.  The government has apologized for the incident, and they have promised to rebuild Parliament. However, in the meantime, the government will be forced to operate out of temporary offices.  The fire has also raised questions about the government's competence. Critics have accused the government of being reckless and careless, and they have called for the resignation of the Prime Minister.  The fire at Parliament is a major embarrassment for the government, and it is sure to have a negative impact on the UK's reputation. It is also a reminder of the dangers of bureaucracy, and it is a lesson that the government should take to heart.\n",
      "\n",
      "Predictions:\n",
      "Logistic Regression: Real News\n",
      "Random Forest: Real News\n",
      "Gradient Boosting: Fake News\n",
      "Decision Tree: Fake News\n"
     ]
    }
   ],
   "source": [
    "# Fake news with funny prompt \n",
    "news = input(\"Enter the news article: \") # Get user input for the news article\n",
    "predictions = testing(news) # Get predictions\n",
    "\n",
    "# Print predictions\n",
    "print(\"\\nPredictions:\")\n",
    "for model, prediction in predictions.items():\n",
    "    print(model + \":\", prediction)"
   ]
  },
  {
   "cell_type": "code",
   "execution_count": 49,
   "id": "1fc7ef48",
   "metadata": {},
   "outputs": [
    {
     "name": "stdout",
     "output_type": "stream",
     "text": [
      "Enter the news article: LONDON (Reuters) -The government had been planning to scrap thousands of EU-era laws in a bid to reduce the burden of regulation on businesses. However, things went awry when a government official accidentally set fire to a pile of documents containing the laws.  The fire quickly spread, engulfing the entire Parliament building. Firefighters were called to the scene, but they were unable to contain the blaze. By the time the fire was extinguished, Parliament had been completely destroyed.  The government has apologized for the incident, and they have promised to rebuild Parliament. However, in the meantime, the government will be forced to operate out of temporary offices.  The fire has also raised questions about the government's competence. Critics have accused the government of being reckless and careless, and they have called for the resignation of the Prime Minister.  The fire at Parliament is a major embarrassment for the government, and it is sure to have a negative impact on the UK's reputation. It is also a reminder of the dangers of bureaucracy, and it is a lesson that the government should take to heart.\n",
      "\n",
      "Predictions:\n",
      "Logistic Regression: Real News\n",
      "Random Forest: Real News\n",
      "Gradient Boosting: Real News\n",
      "Decision Tree: Real News\n"
     ]
    }
   ],
   "source": [
    "# Fake news with funny prompt and fake citation\n",
    "news = input(\"Enter the news article: \") # Get user input for the news article\n",
    "predictions = testing(news) # Get predictions\n",
    "\n",
    "# Print predictions\n",
    "print(\"\\nPredictions:\")\n",
    "for model, prediction in predictions.items():\n",
    "    print(model + \":\", prediction)"
   ]
  },
  {
   "cell_type": "code",
   "execution_count": 51,
   "id": "213e61e7",
   "metadata": {},
   "outputs": [
    {
     "name": "stdout",
     "output_type": "stream",
     "text": [
      "Enter the news article: asvavaavavddav -The government had been planning to scrap thousands of EU-era laws in a bid to reduce the burden of regulation on businesses. However, things went awry when a government official accidentally set fire to a pile of documents containing the laws.  The fire quickly spread, engulfing the entire Parliament building. Firefighters were called to the scene, but they were unable to contain the blaze. By the time the fire was extinguished, Parliament had been completely destroyed.  The government has apologized for the incident, and they have promised to rebuild Parliament. However, in the meantime, the government will be forced to operate out of temporary offices.  The fire has also raised questions about the government's competence. Critics have accused the government of being reckless and careless, and they have called for the resignation of the Prime Minister.  The fire at Parliament is a major embarrassment for the government, and it is sure to have a negative impact on the UK's reputation. It is also a reminder of the dangers of bureaucracy, and it is a lesson that the government should take to heart. -The government had been planning to scrap thousands of EU-era laws in a bid to reduce the burden of regulation on businesses. However, things went awry when a government official accidentally set fire to a pile of documents containing the laws.  The fire quickly spread, engulfing the entire Parliament building. Firefighters were called to the scene, but they were unable to contain the blaze. By the time the fire was extinguished, Parliament had been completely destroyed.  The government has apologized for the incident, and they have promised to rebuild Parliament. However, in the meantime, the government will be forced to operate out of temporary offices.  The fire has also raised questions about the government's competence. Critics have accused the government of being reckless and careless, and they have called for the resignation of the Prime Minister.  The fire at Parliament is a major embarrassment for the government, and it is sure to have a negative impact on the UK's reputation. It is also a reminder of the dangers of bureaucracy, and it is a lesson that the government should take to heart.\n",
      "\n",
      "Predictions:\n",
      "Logistic Regression: Real News\n",
      "Random Forest: Real News\n",
      "Gradient Boosting: Fake News\n",
      "Decision Tree: Fake News\n"
     ]
    }
   ],
   "source": [
    "# Fake news with funny prompt with gibberish citation\n",
    "news = input(\"Enter the news article: \") # Get user input for the news article\n",
    "predictions = testing(news) # Get predictions\n",
    "\n",
    "# Print predictions\n",
    "print(\"\\nPredictions:\")\n",
    "for model, prediction in predictions.items():\n",
    "    print(model + \":\", prediction)"
   ]
  }
 ],
 "metadata": {
  "kernelspec": {
   "display_name": "Python 3 (ipykernel)",
   "language": "python",
   "name": "python3"
  },
  "language_info": {
   "codemirror_mode": {
    "name": "ipython",
    "version": 3
   },
   "file_extension": ".py",
   "mimetype": "text/x-python",
   "name": "python",
   "nbconvert_exporter": "python",
   "pygments_lexer": "ipython3",
   "version": "3.9.16"
  }
 },
 "nbformat": 4,
 "nbformat_minor": 5
}
